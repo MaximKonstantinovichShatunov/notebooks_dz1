{
 "cells": [
  {
   "cell_type": "markdown",
   "id": "8aabb38a",
   "metadata": {},
   "source": [
    "## Задача 2\n",
    "### 2.1\n",
    "    На складе лежат разные фрукты в разном количестве.\n",
    "    Нужно написать функцию, которая на вход принимает любое количество названий фруктов и их количество, а возвращает общее\n",
    "    количество фруктов на складе"
   ]
  },
  {
   "cell_type": "code",
   "execution_count": 7,
   "id": "b75f8a4d",
   "metadata": {},
   "outputs": [
    {
     "data": {
      "text/plain": [
       "20"
      ]
     },
     "execution_count": 7,
     "metadata": {},
     "output_type": "execute_result"
    }
   ],
   "source": [
    "def total_fruits(**kwargs):\n",
    "    sum=0\n",
    "    for key, value in kwargs.items():\n",
    "        sum+=value\n",
    "    return sum\n",
    "    \n",
    "    \n",
    "total_fruits(banana=5,mango=7, apple=8)"
   ]
  },
  {
   "cell_type": "markdown",
   "id": "dbb94135",
   "metadata": {},
   "source": [
    "## Задача 3\n",
    "    Дан список с затратами на рекламу. Но в данных есть ошибки, некоторые затраты имеют\n",
    "    отрицательную величину.Удалите такие  значения из списка и посчитайте суммарные затраты\n",
    "    [100, 125, -90, 345, 655, -1, 0, 200]\n",
    "    Используйте list comprehensions"
   ]
  },
  {
   "cell_type": "code",
   "execution_count": 21,
   "id": "2850e395",
   "metadata": {},
   "outputs": [
    {
     "name": "stdout",
     "output_type": "stream",
     "text": [
      "[100, 125, 345, 655, 200]\n",
      "Суммарные затраты - 1425\n"
     ]
    }
   ],
   "source": [
    "data = [100, 125, -90, 345, 655, -1, 0, 200]\n",
    "\n",
    "new_data = [i for i in data if i>0]\n",
    "\n",
    "print(f'{new_data}\\nСуммарные затраты - {sum(new_data)}')\n"
   ]
  },
  {
   "cell_type": "markdown",
   "id": "c8fd14de",
   "metadata": {},
   "source": [
    "## Задача 4\n",
    "    Даны два списка.\n",
    "    Дата покупки\n",
    "    Суммы покупок по датам\n",
    "\n"
   ]
  },
  {
   "cell_type": "markdown",
   "id": "959578b3",
   "metadata": {},
   "source": [
    "### 4.1\n",
    "    4.1 Найдите, какая выручка у компании в ноябре\n",
    "    Используйте list comprehensions"
   ]
  },
  {
   "cell_type": "code",
   "execution_count": 71,
   "id": "162c75ce",
   "metadata": {},
   "outputs": [
    {
     "data": {
      "text/plain": [
       "25098"
      ]
     },
     "execution_count": 71,
     "metadata": {},
     "output_type": "execute_result"
    }
   ],
   "source": [
    "date = ['2021-09-14', '2021-12-15', '2021-09-08', '2021-12-05', '2021-10-09', '2021-09-30', '2021-12-22',\n",
    "        '2021-11-29', '2021-12-24', '2021-11-26', '2021-10-27', '2021-12-18', '2021-11-09', '2021-11-23', \n",
    "        '2021-09-27', '2021-10-02', '2021-12-27', '2021-09-20', '2021-12-13', '2021-11-01', '2021-11-09',\n",
    "        '2021-12-06', '2021-12-08', '2021-10-09', '2021-10-31', '2021-09-30', '2021-11-09', '2021-12-13',\n",
    "        '2021-10-26', '2021-12-09']\n",
    "check = [1270, 8413, 9028, 3703, 5739, 4095, 295, 4944, 5723, 3701, 4471, 651, 7037, 4274, 6275, 4988,\n",
    "         6930, 2971, 6592, 2004, 2822, 519, 3406, 2732, 5015, 2008, 316, 6333, 5700, 2887]\n",
    "start=\"2021-11-01\"\n",
    "end= \"2021-11-31\"\n",
    "\n",
    "check1=([check[i] for i in range(len(check)) if start<=data[i]<=end])\n",
    "sum(check1)"
   ]
  },
  {
   "cell_type": "markdown",
   "id": "a9dca62c",
   "metadata": {},
   "source": [
    "### 4.2\n",
    "    Найдите выручку компании в зависимости от месяца\n",
    "    Для этого напишите функцию, которая на вход принимает список с датами и список с выручкой,\n",
    "    а на выходе словарь, где ключи - это месяцы, а значения - это выручка.\n",
    "    Используйте аннотирование типов."
   ]
  },
  {
   "cell_type": "code",
   "execution_count": 72,
   "id": "fbf1d1a1",
   "metadata": {},
   "outputs": [
    {
     "data": {
      "text/plain": [
       "{'09': 25647, '12': 45452, '10': 28645, '11': 25098}"
      ]
     },
     "execution_count": 72,
     "metadata": {},
     "output_type": "execute_result"
    }
   ],
   "source": [
    "def date_filter_by_month(date: list, check: list) ->dict:\n",
    "    check_date =sorted(dict(zip(date,check)).items())\n",
    "    summa = {}\n",
    "    for i in range(len(date)):\n",
    "        month = date[i].split('-')[1]\n",
    "        if month in summa:\n",
    "            summa[month] += check[i]\n",
    "        else:\n",
    "            summa[month] = check[i]\n",
    "    return summa\n",
    "\n",
    "date_filter_by_month(date, check)\n",
    "\n",
    "\n",
    "\n",
    "    "
   ]
  },
  {
   "cell_type": "code",
   "execution_count": null,
   "id": "7fb66153",
   "metadata": {},
   "outputs": [],
   "source": []
  }
 ],
 "metadata": {
  "kernelspec": {
   "display_name": "Python 3 (ipykernel)",
   "language": "python",
   "name": "python3"
  },
  "language_info": {
   "codemirror_mode": {
    "name": "ipython",
    "version": 3
   },
   "file_extension": ".py",
   "mimetype": "text/x-python",
   "name": "python",
   "nbconvert_exporter": "python",
   "pygments_lexer": "ipython3",
   "version": "3.9.13"
  }
 },
 "nbformat": 4,
 "nbformat_minor": 5
}
